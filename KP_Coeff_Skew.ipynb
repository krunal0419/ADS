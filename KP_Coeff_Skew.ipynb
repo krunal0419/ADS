{
 "cells": [
  {
   "cell_type": "code",
   "execution_count": 4,
   "metadata": {},
   "outputs": [
    {
     "name": "stdout",
     "output_type": "stream",
     "text": [
      "0.0\n"
     ]
    }
   ],
   "source": [
    "import numpy as np\n",
    "\n",
    "def pearson_coeffskew(data):\n",
    "    mean = np.mean(data)\n",
    "    median = np.median(data)\n",
    "    std_dev = np.std(data)\n",
    "    skewness = (3*(mean-median))/std_dev\n",
    "    return skewness\n",
    "\n",
    "data = np.array([1,2,3,4,5,6,7,8,9,10])\n",
    "\n",
    "sk = pearson_coeffskew(data)\n",
    "print(sk)"
   ]
  }
 ],
 "metadata": {
  "kernelspec": {
   "display_name": "Python 3",
   "language": "python",
   "name": "python3"
  },
  "language_info": {
   "codemirror_mode": {
    "name": "ipython",
    "version": 3
   },
   "file_extension": ".py",
   "mimetype": "text/x-python",
   "name": "python",
   "nbconvert_exporter": "python",
   "pygments_lexer": "ipython3",
   "version": "3.11.2"
  }
 },
 "nbformat": 4,
 "nbformat_minor": 2
}
