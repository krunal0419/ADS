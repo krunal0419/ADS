{
 "cells": [
  {
   "cell_type": "code",
   "execution_count": 13,
   "metadata": {},
   "outputs": [
    {
     "name": "stdout",
     "output_type": "stream",
     "text": [
      "0.0\n"
     ]
    }
   ],
   "source": [
    "import numpy as np\n",
    "\n",
    "def bowley_skew(data):\n",
    "    q1 = np.percentile(data,25)\n",
    "    q2 = np.percentile(data,50)\n",
    "    q3 = np.percentile(data,75)\n",
    "\n",
    "    skew = (q3+q1-2*q2)/(q3-q1)\n",
    "\n",
    "    return skew\n",
    "\n",
    "data = np.array([1,2,3,4,5,6,7,8,9,10])\n",
    "sk = bowley_skew(data)\n",
    "print(sk)"
   ]
  }
 ],
 "metadata": {
  "kernelspec": {
   "display_name": "Python 3",
   "language": "python",
   "name": "python3"
  },
  "language_info": {
   "codemirror_mode": {
    "name": "ipython",
    "version": 3
   },
   "file_extension": ".py",
   "mimetype": "text/x-python",
   "name": "python",
   "nbconvert_exporter": "python",
   "pygments_lexer": "ipython3",
   "version": "3.11.2"
  }
 },
 "nbformat": 4,
 "nbformat_minor": 2
}
